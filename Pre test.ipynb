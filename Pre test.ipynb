{
 "cells": [
  {
   "cell_type": "markdown",
   "metadata": {},
   "source": [
    "### First Part"
   ]
  },
  {
   "cell_type": "code",
   "execution_count": 47,
   "metadata": {},
   "outputs": [],
   "source": [
    "import pandas as pd #importing libraries"
   ]
  },
  {
   "cell_type": "code",
   "execution_count": 48,
   "metadata": {},
   "outputs": [],
   "source": [
    "data = pd.read_csv('room.txt', sep=\",\") #reading from .txt file, room is the data given on the test"
   ]
  },
  {
   "cell_type": "code",
   "execution_count": 49,
   "metadata": {},
   "outputs": [
    {
     "data": {
      "text/html": [
       "<div>\n",
       "<style scoped>\n",
       "    .dataframe tbody tr th:only-of-type {\n",
       "        vertical-align: middle;\n",
       "    }\n",
       "\n",
       "    .dataframe tbody tr th {\n",
       "        vertical-align: top;\n",
       "    }\n",
       "\n",
       "    .dataframe thead th {\n",
       "        text-align: right;\n",
       "    }\n",
       "</style>\n",
       "<table border=\"1\" class=\"dataframe\">\n",
       "  <thead>\n",
       "    <tr style=\"text-align: right;\">\n",
       "      <th></th>\n",
       "      <th>Floor</th>\n",
       "      <th>Room</th>\n",
       "      <th>Max People</th>\n",
       "      <th>Start Time</th>\n",
       "      <th>End Time</th>\n",
       "    </tr>\n",
       "  </thead>\n",
       "  <tbody>\n",
       "    <tr>\n",
       "      <th>0</th>\n",
       "      <td>7</td>\n",
       "      <td>11</td>\n",
       "      <td>8</td>\n",
       "      <td>900</td>\n",
       "      <td>915</td>\n",
       "    </tr>\n",
       "    <tr>\n",
       "      <th>1</th>\n",
       "      <td>7</td>\n",
       "      <td>11</td>\n",
       "      <td>8</td>\n",
       "      <td>1430</td>\n",
       "      <td>1500</td>\n",
       "    </tr>\n",
       "    <tr>\n",
       "      <th>2</th>\n",
       "      <td>8</td>\n",
       "      <td>23</td>\n",
       "      <td>6</td>\n",
       "      <td>1000</td>\n",
       "      <td>1100</td>\n",
       "    </tr>\n",
       "    <tr>\n",
       "      <th>3</th>\n",
       "      <td>8</td>\n",
       "      <td>23</td>\n",
       "      <td>6</td>\n",
       "      <td>1400</td>\n",
       "      <td>1500</td>\n",
       "    </tr>\n",
       "    <tr>\n",
       "      <th>4</th>\n",
       "      <td>8</td>\n",
       "      <td>43</td>\n",
       "      <td>7</td>\n",
       "      <td>1130</td>\n",
       "      <td>1230</td>\n",
       "    </tr>\n",
       "  </tbody>\n",
       "</table>\n",
       "</div>"
      ],
      "text/plain": [
       "   Floor  Room  Max People  Start Time  End Time\n",
       "0      7    11           8         900       915\n",
       "1      7    11           8        1430      1500\n",
       "2      8    23           6        1000      1100\n",
       "3      8    23           6        1400      1500\n",
       "4      8    43           7        1130      1230"
      ]
     },
     "execution_count": 49,
     "metadata": {},
     "output_type": "execute_result"
    }
   ],
   "source": [
    "data.head(5) #looking at the top 5 rows of data"
   ]
  },
  {
   "cell_type": "code",
   "execution_count": 50,
   "metadata": {},
   "outputs": [],
   "source": [
    "def roomSearch(n,f,s,e):\n",
    "    #A function that takes:\n",
    "    # n - number of people\n",
    "    # f - floor\n",
    "    # s - start time\n",
    "    # e - end time\n",
    "    \n",
    "    row = data.loc[(data['Start Time']==s) & (data['End Time']==e)] #locate time slot by start and end time\n",
    "    if (n < row['Max People'].array):\n",
    "        return row['Floor'],row['Room'] #return room and floor number\n",
    "    else:\n",
    "        print('No room available')"
   ]
  },
  {
   "cell_type": "code",
   "execution_count": 51,
   "metadata": {},
   "outputs": [],
   "source": [
    "f,r = roomSearch(5,8,1030,1130) # 5 people on floor 8 between 10:30 and 11:30"
   ]
  },
  {
   "cell_type": "code",
   "execution_count": 52,
   "metadata": {
    "scrolled": true
   },
   "outputs": [
    {
     "name": "stdout",
     "output_type": "stream",
     "text": [
      "Floor:  9\n",
      "Room:  547\n"
     ]
    }
   ],
   "source": [
    "print('Floor: ',f.array[0])\n",
    "print('Room: ',r.array[0])"
   ]
  },
  {
   "cell_type": "markdown",
   "metadata": {},
   "source": [
    "The above method is not refined as it returns the room that is first on the list based on how it is stored. If there were two floors then it would return the floor that was stored first which may not always be the optimized solution. We will address that issue in the next few lines of code"
   ]
  },
  {
   "cell_type": "markdown",
   "metadata": {},
   "source": [
    "### Nearest Floor"
   ]
  },
  {
   "cell_type": "code",
   "execution_count": 53,
   "metadata": {},
   "outputs": [],
   "source": [
    "data1 = pd.read_csv('room1.txt', sep=\",\") #reading from .txt file, we have added a new line to have two floors with same time slots"
   ]
  },
  {
   "cell_type": "code",
   "execution_count": 54,
   "metadata": {},
   "outputs": [
    {
     "data": {
      "text/html": [
       "<div>\n",
       "<style scoped>\n",
       "    .dataframe tbody tr th:only-of-type {\n",
       "        vertical-align: middle;\n",
       "    }\n",
       "\n",
       "    .dataframe tbody tr th {\n",
       "        vertical-align: top;\n",
       "    }\n",
       "\n",
       "    .dataframe thead th {\n",
       "        text-align: right;\n",
       "    }\n",
       "</style>\n",
       "<table border=\"1\" class=\"dataframe\">\n",
       "  <thead>\n",
       "    <tr style=\"text-align: right;\">\n",
       "      <th></th>\n",
       "      <th>Floor</th>\n",
       "      <th>Room</th>\n",
       "      <th>Max People</th>\n",
       "      <th>Start Time</th>\n",
       "      <th>End Time</th>\n",
       "    </tr>\n",
       "  </thead>\n",
       "  <tbody>\n",
       "    <tr>\n",
       "      <th>0</th>\n",
       "      <td>7</td>\n",
       "      <td>11</td>\n",
       "      <td>8</td>\n",
       "      <td>900</td>\n",
       "      <td>915</td>\n",
       "    </tr>\n",
       "    <tr>\n",
       "      <th>1</th>\n",
       "      <td>7</td>\n",
       "      <td>11</td>\n",
       "      <td>8</td>\n",
       "      <td>1430</td>\n",
       "      <td>1500</td>\n",
       "    </tr>\n",
       "    <tr>\n",
       "      <th>2</th>\n",
       "      <td>8</td>\n",
       "      <td>23</td>\n",
       "      <td>6</td>\n",
       "      <td>1000</td>\n",
       "      <td>1100</td>\n",
       "    </tr>\n",
       "    <tr>\n",
       "      <th>3</th>\n",
       "      <td>8</td>\n",
       "      <td>23</td>\n",
       "      <td>6</td>\n",
       "      <td>1400</td>\n",
       "      <td>1500</td>\n",
       "    </tr>\n",
       "    <tr>\n",
       "      <th>4</th>\n",
       "      <td>8</td>\n",
       "      <td>43</td>\n",
       "      <td>7</td>\n",
       "      <td>1130</td>\n",
       "      <td>1230</td>\n",
       "    </tr>\n",
       "    <tr>\n",
       "      <th>5</th>\n",
       "      <td>8</td>\n",
       "      <td>43</td>\n",
       "      <td>7</td>\n",
       "      <td>1700</td>\n",
       "      <td>1730</td>\n",
       "    </tr>\n",
       "    <tr>\n",
       "      <th>6</th>\n",
       "      <td>9</td>\n",
       "      <td>511</td>\n",
       "      <td>9</td>\n",
       "      <td>930</td>\n",
       "      <td>1030</td>\n",
       "    </tr>\n",
       "    <tr>\n",
       "      <th>7</th>\n",
       "      <td>10</td>\n",
       "      <td>501</td>\n",
       "      <td>9</td>\n",
       "      <td>1030</td>\n",
       "      <td>1130</td>\n",
       "    </tr>\n",
       "    <tr>\n",
       "      <th>8</th>\n",
       "      <td>9</td>\n",
       "      <td>511</td>\n",
       "      <td>9</td>\n",
       "      <td>1200</td>\n",
       "      <td>1215</td>\n",
       "    </tr>\n",
       "    <tr>\n",
       "      <th>9</th>\n",
       "      <td>9</td>\n",
       "      <td>511</td>\n",
       "      <td>9</td>\n",
       "      <td>1515</td>\n",
       "      <td>1615</td>\n",
       "    </tr>\n",
       "    <tr>\n",
       "      <th>10</th>\n",
       "      <td>9</td>\n",
       "      <td>527</td>\n",
       "      <td>4</td>\n",
       "      <td>900</td>\n",
       "      <td>1100</td>\n",
       "    </tr>\n",
       "    <tr>\n",
       "      <th>11</th>\n",
       "      <td>9</td>\n",
       "      <td>527</td>\n",
       "      <td>4</td>\n",
       "      <td>1400</td>\n",
       "      <td>1600</td>\n",
       "    </tr>\n",
       "    <tr>\n",
       "      <th>12</th>\n",
       "      <td>9</td>\n",
       "      <td>547</td>\n",
       "      <td>8</td>\n",
       "      <td>1030</td>\n",
       "      <td>1130</td>\n",
       "    </tr>\n",
       "    <tr>\n",
       "      <th>13</th>\n",
       "      <td>9</td>\n",
       "      <td>547</td>\n",
       "      <td>8</td>\n",
       "      <td>1330</td>\n",
       "      <td>1530</td>\n",
       "    </tr>\n",
       "    <tr>\n",
       "      <th>14</th>\n",
       "      <td>9</td>\n",
       "      <td>547</td>\n",
       "      <td>8</td>\n",
       "      <td>1630</td>\n",
       "      <td>1730</td>\n",
       "    </tr>\n",
       "  </tbody>\n",
       "</table>\n",
       "</div>"
      ],
      "text/plain": [
       "    Floor  Room  Max People  Start Time  End Time\n",
       "0       7    11           8         900       915\n",
       "1       7    11           8        1430      1500\n",
       "2       8    23           6        1000      1100\n",
       "3       8    23           6        1400      1500\n",
       "4       8    43           7        1130      1230\n",
       "5       8    43           7        1700      1730\n",
       "6       9   511           9         930      1030\n",
       "7      10   501           9        1030      1130\n",
       "8       9   511           9        1200      1215\n",
       "9       9   511           9        1515      1615\n",
       "10      9   527           4         900      1100\n",
       "11      9   527           4        1400      1600\n",
       "12      9   547           8        1030      1130\n",
       "13      9   547           8        1330      1530\n",
       "14      9   547           8        1630      1730"
      ]
     },
     "execution_count": 54,
     "metadata": {},
     "output_type": "execute_result"
    }
   ],
   "source": [
    "data1"
   ]
  },
  {
   "cell_type": "markdown",
   "metadata": {},
   "source": [
    "Line 8 or index 7 has a new floor 10 with a matching time slot to 9.547"
   ]
  },
  {
   "cell_type": "code",
   "execution_count": 55,
   "metadata": {},
   "outputs": [],
   "source": [
    "def roomSearch1(n,f,s,e):\n",
    "    row = data1.loc[(data1['Start Time']==s) & (data1['End Time']==e)]\n",
    "    if (n < row['Max People'].array):\n",
    "        if row.shape[0] > 1:\n",
    "            floors = row.Floor.tolist()\n",
    "            diff_func = lambda x : abs(x - f)\n",
    "            nearest_floor = min(floors, key=diff_func)\n",
    "            target = row.loc[row['Floor']==nearest_floor]\n",
    "            return target['Floor'],target['Room']\n",
    "            \n",
    "    else:\n",
    "        print('No room available')"
   ]
  },
  {
   "cell_type": "markdown",
   "metadata": {},
   "source": [
    "#### Scenario 1 - 5 people on floor 8 between 10:30 and 11:30"
   ]
  },
  {
   "cell_type": "code",
   "execution_count": 69,
   "metadata": {},
   "outputs": [
    {
     "name": "stdout",
     "output_type": "stream",
     "text": [
      "Floor:  9\n",
      "Room:  547\n"
     ]
    }
   ],
   "source": [
    "f,r = roomSearch1(5,8,1030,1130) # 5 people on floor 8 between 10:30 and 11:30\n",
    "print('Floor: ',f.array[0])\n",
    "print('Room: ',r.array[0])"
   ]
  },
  {
   "cell_type": "markdown",
   "metadata": {},
   "source": [
    "#### Scenario 2 - 5 people on floor 9 between 10:30 and 11:30"
   ]
  },
  {
   "cell_type": "code",
   "execution_count": 72,
   "metadata": {},
   "outputs": [
    {
     "name": "stdout",
     "output_type": "stream",
     "text": [
      "Floor:  9\n",
      "Room:  547\n"
     ]
    }
   ],
   "source": [
    "f,r = roomSearch1(5,9,1030,1130) # 5 people on floor 9 between 10:30 and 11:30\n",
    "print('Floor: ',f.array[0])\n",
    "print('Room: ',r.array[0])"
   ]
  },
  {
   "cell_type": "markdown",
   "metadata": {},
   "source": [
    "#### Scenario 3 - 5 people on floor 10 between 10:30 and 11:30"
   ]
  },
  {
   "cell_type": "code",
   "execution_count": 73,
   "metadata": {},
   "outputs": [
    {
     "name": "stdout",
     "output_type": "stream",
     "text": [
      "Floor:  10\n",
      "Room:  501\n"
     ]
    }
   ],
   "source": [
    "f,r = roomSearch1(5,10,1030,1130) # 5 people on floor 10 between 10:30 and 11:30\n",
    "print('Floor: ',f.array[0])\n",
    "print('Room: ',r.array[0])"
   ]
  },
  {
   "cell_type": "markdown",
   "metadata": {},
   "source": [
    "#### Scenario 4 - 5 people on floor 11 between 10:30 and 11:30"
   ]
  },
  {
   "cell_type": "code",
   "execution_count": 74,
   "metadata": {},
   "outputs": [
    {
     "name": "stdout",
     "output_type": "stream",
     "text": [
      "Floor:  10\n",
      "Room:  501\n"
     ]
    }
   ],
   "source": [
    "f,r = roomSearch1(5,11,1030,1130) # 5 people on floor 11 between 10:30 and 11:30\n",
    "print('Floor: ',f.array[0])\n",
    "print('Room: ',r.array[0])"
   ]
  }
 ],
 "metadata": {
  "kernelspec": {
   "display_name": "Python 3",
   "language": "python",
   "name": "python3"
  },
  "language_info": {
   "codemirror_mode": {
    "name": "ipython",
    "version": 3
   },
   "file_extension": ".py",
   "mimetype": "text/x-python",
   "name": "python",
   "nbconvert_exporter": "python",
   "pygments_lexer": "ipython3",
   "version": "3.7.0"
  }
 },
 "nbformat": 4,
 "nbformat_minor": 2
}
